{
 "nbformat": 4,
 "nbformat_minor": 0,
 "metadata": {
  "colab": {
   "name": "f1_graph_embeddings.ipynb",
   "provenance": [],
   "collapsed_sections": [],
   "mount_file_id": "1suBYElPMYVKxJZXx6vvJmn6DtsyGIYPJ",
   "authorship_tag": "ABX9TyODZDmoypMG4c1388obX9ua"
  },
  "kernelspec": {
   "name": "python3",
   "display_name": "Python 3"
  },
  "language_info": {
   "name": "python"
  },
  "accelerator": "GPU",
  "gpuClass": "standard"
 },
 "cells": [
  {
   "cell_type": "markdown",
   "source": [
    "Preparing an environment, importing required libs"
   ],
   "metadata": {
    "id": "6l60oolNCtbL",
    "pycharm": {
     "name": "#%% md\n"
    }
   }
  },
  {
   "cell_type": "code",
   "execution_count": 1,
   "metadata": {
    "colab": {
     "base_uri": "https://localhost:8080/",
     "height": 1000
    },
    "id": "NpiqNs_6BHJD",
    "executionInfo": {
     "status": "ok",
     "timestamp": 1655820584513,
     "user_tz": -180,
     "elapsed": 62521,
     "user": {
      "displayName": "Никита Рогаленко",
      "userId": "07335219348058713837"
     }
    },
    "outputId": "e77c8871-5dd7-4059-b211-55129b26c4bc",
    "pycharm": {
     "name": "#%%\n"
    }
   },
   "outputs": [
    {
     "name": "stdout",
     "output_type": "stream",
     "text": [
      "Requirement already satisfied: tensorflow-gpu<2.0,>=1.15.2 in ./venv/lib/python3.7/site-packages (1.15.5)\r\n",
      "Requirement already satisfied: ampligraph in ./venv/lib/python3.7/site-packages (1.4.0)\r\n",
      "Requirement already satisfied: wrapt>=1.11.1 in ./venv/lib/python3.7/site-packages (from tensorflow-gpu<2.0,>=1.15.2) (1.14.1)\r\n",
      "Requirement already satisfied: absl-py>=0.7.0 in ./venv/lib/python3.7/site-packages (from tensorflow-gpu<2.0,>=1.15.2) (1.1.0)\r\n",
      "Collecting numpy<1.19.0,>=1.16.0\r\n",
      "  Using cached numpy-1.18.5-cp37-cp37m-manylinux1_x86_64.whl (20.1 MB)\r\n",
      "Requirement already satisfied: h5py<=2.10.0 in ./venv/lib/python3.7/site-packages (from tensorflow-gpu<2.0,>=1.15.2) (2.10.0)\r\n",
      "Requirement already satisfied: tensorflow-estimator==1.15.1 in ./venv/lib/python3.7/site-packages (from tensorflow-gpu<2.0,>=1.15.2) (1.15.1)\r\n",
      "Requirement already satisfied: six>=1.10.0 in ./venv/lib/python3.7/site-packages (from tensorflow-gpu<2.0,>=1.15.2) (1.16.0)\r\n",
      "Requirement already satisfied: astor>=0.6.0 in ./venv/lib/python3.7/site-packages (from tensorflow-gpu<2.0,>=1.15.2) (0.8.1)\r\n",
      "Requirement already satisfied: google-pasta>=0.1.6 in ./venv/lib/python3.7/site-packages (from tensorflow-gpu<2.0,>=1.15.2) (0.2.0)\r\n",
      "Requirement already satisfied: opt-einsum>=2.3.2 in ./venv/lib/python3.7/site-packages (from tensorflow-gpu<2.0,>=1.15.2) (3.3.0)\r\n",
      "Requirement already satisfied: protobuf>=3.6.1 in ./venv/lib/python3.7/site-packages (from tensorflow-gpu<2.0,>=1.15.2) (4.21.1)\r\n",
      "Requirement already satisfied: gast==0.2.2 in ./venv/lib/python3.7/site-packages (from tensorflow-gpu<2.0,>=1.15.2) (0.2.2)\r\n",
      "Requirement already satisfied: keras-preprocessing>=1.0.5 in ./venv/lib/python3.7/site-packages (from tensorflow-gpu<2.0,>=1.15.2) (1.1.2)\r\n",
      "Requirement already satisfied: tensorboard<1.16.0,>=1.15.0 in ./venv/lib/python3.7/site-packages (from tensorflow-gpu<2.0,>=1.15.2) (1.15.0)\r\n",
      "Requirement already satisfied: termcolor>=1.1.0 in ./venv/lib/python3.7/site-packages (from tensorflow-gpu<2.0,>=1.15.2) (1.1.0)\r\n",
      "Requirement already satisfied: wheel>=0.26 in ./venv/lib/python3.7/site-packages (from tensorflow-gpu<2.0,>=1.15.2) (0.37.1)\r\n",
      "Requirement already satisfied: grpcio>=1.8.6 in ./venv/lib/python3.7/site-packages (from tensorflow-gpu<2.0,>=1.15.2) (1.46.3)\r\n",
      "Requirement already satisfied: keras-applications>=1.0.8 in ./venv/lib/python3.7/site-packages (from tensorflow-gpu<2.0,>=1.15.2) (1.0.8)\r\n",
      "Requirement already satisfied: sphinx-rtd-theme==0.4.3 in ./venv/lib/python3.7/site-packages (from ampligraph) (0.4.3)\r\n",
      "Requirement already satisfied: flake8>=3.7.7 in ./venv/lib/python3.7/site-packages (from ampligraph) (4.0.1)\r\n",
      "Requirement already satisfied: pytest>=3.5.1 in ./venv/lib/python3.7/site-packages (from ampligraph) (7.1.2)\r\n",
      "Requirement already satisfied: sphinxcontrib-bibtex==0.4.2 in ./venv/lib/python3.7/site-packages (from ampligraph) (0.4.2)\r\n",
      "Requirement already satisfied: setuptools>=36 in ./venv/lib/python3.7/site-packages (from ampligraph) (60.2.0)\r\n",
      "Requirement already satisfied: scipy>=1.3.0 in ./venv/lib/python3.7/site-packages (from ampligraph) (1.7.3)\r\n",
      "Requirement already satisfied: tqdm>=4.23.4 in ./venv/lib/python3.7/site-packages (from ampligraph) (4.64.0)\r\n",
      "Requirement already satisfied: pandas>=0.23.1 in ./venv/lib/python3.7/site-packages (from ampligraph) (1.3.5)\r\n",
      "Requirement already satisfied: pyyaml>=3.13 in ./venv/lib/python3.7/site-packages (from ampligraph) (6.0)\r\n",
      "Requirement already satisfied: rdflib>=4.2.2 in ./venv/lib/python3.7/site-packages (from ampligraph) (6.1.1)\r\n",
      "Requirement already satisfied: networkx>=2.3 in ./venv/lib/python3.7/site-packages (from ampligraph) (2.6.3)\r\n",
      "Requirement already satisfied: beautifultable>=0.7.0 in ./venv/lib/python3.7/site-packages (from ampligraph) (1.1.0)\r\n",
      "Requirement already satisfied: sphinx<3,>=2.2 in ./venv/lib/python3.7/site-packages (from ampligraph) (2.4.5)\r\n",
      "Requirement already satisfied: recommonmark==0.4.0 in ./venv/lib/python3.7/site-packages (from ampligraph) (0.4.0)\r\n",
      "Requirement already satisfied: scikit-learn>=0.19.1 in ./venv/lib/python3.7/site-packages (from ampligraph) (1.0.2)\r\n",
      "Requirement already satisfied: docutils>=0.11 in ./venv/lib/python3.7/site-packages (from recommonmark==0.4.0->ampligraph) (0.17.1)\r\n",
      "Requirement already satisfied: commonmark<=0.5.4 in ./venv/lib/python3.7/site-packages (from recommonmark==0.4.0->ampligraph) (0.5.4)\r\n",
      "Requirement already satisfied: pybtex>=0.20 in ./venv/lib/python3.7/site-packages (from sphinxcontrib-bibtex==0.4.2->ampligraph) (0.24.0)\r\n",
      "Requirement already satisfied: oset>=0.1.3 in ./venv/lib/python3.7/site-packages (from sphinxcontrib-bibtex==0.4.2->ampligraph) (0.1.3)\r\n",
      "Requirement already satisfied: pybtex-docutils>=0.2.0 in ./venv/lib/python3.7/site-packages (from sphinxcontrib-bibtex==0.4.2->ampligraph) (1.0.2)\r\n",
      "Requirement already satisfied: wcwidth in ./venv/lib/python3.7/site-packages (from beautifultable>=0.7.0->ampligraph) (0.2.5)\r\n",
      "Requirement already satisfied: mccabe<0.7.0,>=0.6.0 in ./venv/lib/python3.7/site-packages (from flake8>=3.7.7->ampligraph) (0.6.1)\r\n",
      "Requirement already satisfied: importlib-metadata<4.3 in ./venv/lib/python3.7/site-packages (from flake8>=3.7.7->ampligraph) (4.2.0)\r\n",
      "Requirement already satisfied: pycodestyle<2.9.0,>=2.8.0 in ./venv/lib/python3.7/site-packages (from flake8>=3.7.7->ampligraph) (2.8.0)\r\n",
      "Requirement already satisfied: pyflakes<2.5.0,>=2.4.0 in ./venv/lib/python3.7/site-packages (from flake8>=3.7.7->ampligraph) (2.4.0)\r\n",
      "Requirement already satisfied: python-dateutil>=2.7.3 in ./venv/lib/python3.7/site-packages (from pandas>=0.23.1->ampligraph) (2.8.2)\r\n",
      "Requirement already satisfied: pytz>=2017.3 in ./venv/lib/python3.7/site-packages (from pandas>=0.23.1->ampligraph) (2022.1)\r\n",
      "Requirement already satisfied: py>=1.8.2 in ./venv/lib/python3.7/site-packages (from pytest>=3.5.1->ampligraph) (1.11.0)\r\n",
      "Requirement already satisfied: iniconfig in ./venv/lib/python3.7/site-packages (from pytest>=3.5.1->ampligraph) (1.1.1)\r\n",
      "Requirement already satisfied: pluggy<2.0,>=0.12 in ./venv/lib/python3.7/site-packages (from pytest>=3.5.1->ampligraph) (1.0.0)\r\n",
      "Requirement already satisfied: attrs>=19.2.0 in ./venv/lib/python3.7/site-packages (from pytest>=3.5.1->ampligraph) (21.4.0)\r\n",
      "Requirement already satisfied: tomli>=1.0.0 in ./venv/lib/python3.7/site-packages (from pytest>=3.5.1->ampligraph) (2.0.1)\r\n",
      "Requirement already satisfied: packaging in ./venv/lib/python3.7/site-packages (from pytest>=3.5.1->ampligraph) (21.3)\r\n",
      "Requirement already satisfied: pyparsing in ./venv/lib/python3.7/site-packages (from rdflib>=4.2.2->ampligraph) (3.0.9)\r\n",
      "Requirement already satisfied: isodate in ./venv/lib/python3.7/site-packages (from rdflib>=4.2.2->ampligraph) (0.6.1)\r\n",
      "Requirement already satisfied: joblib>=0.11 in ./venv/lib/python3.7/site-packages (from scikit-learn>=0.19.1->ampligraph) (1.1.0)\r\n",
      "Requirement already satisfied: threadpoolctl>=2.0.0 in ./venv/lib/python3.7/site-packages (from scikit-learn>=0.19.1->ampligraph) (3.1.0)\r\n",
      "Requirement already satisfied: sphinxcontrib-jsmath in ./venv/lib/python3.7/site-packages (from sphinx<3,>=2.2->ampligraph) (1.0.1)\r\n",
      "Requirement already satisfied: sphinxcontrib-qthelp in ./venv/lib/python3.7/site-packages (from sphinx<3,>=2.2->ampligraph) (1.0.3)\r\n",
      "Requirement already satisfied: requests>=2.5.0 in ./venv/lib/python3.7/site-packages (from sphinx<3,>=2.2->ampligraph) (2.28.0)\r\n",
      "Requirement already satisfied: Pygments>=2.0 in ./venv/lib/python3.7/site-packages (from sphinx<3,>=2.2->ampligraph) (2.12.0)\r\n",
      "Requirement already satisfied: snowballstemmer>=1.1 in ./venv/lib/python3.7/site-packages (from sphinx<3,>=2.2->ampligraph) (2.2.0)\r\n",
      "Requirement already satisfied: alabaster<0.8,>=0.7 in ./venv/lib/python3.7/site-packages (from sphinx<3,>=2.2->ampligraph) (0.7.12)\r\n",
      "Requirement already satisfied: imagesize in ./venv/lib/python3.7/site-packages (from sphinx<3,>=2.2->ampligraph) (1.3.0)\r\n",
      "Requirement already satisfied: babel!=2.0,>=1.3 in ./venv/lib/python3.7/site-packages (from sphinx<3,>=2.2->ampligraph) (2.10.3)\r\n",
      "Requirement already satisfied: sphinxcontrib-htmlhelp in ./venv/lib/python3.7/site-packages (from sphinx<3,>=2.2->ampligraph) (2.0.0)\r\n",
      "Requirement already satisfied: sphinxcontrib-applehelp in ./venv/lib/python3.7/site-packages (from sphinx<3,>=2.2->ampligraph) (1.0.2)\r\n",
      "Requirement already satisfied: sphinxcontrib-serializinghtml in ./venv/lib/python3.7/site-packages (from sphinx<3,>=2.2->ampligraph) (1.1.5)\r\n",
      "Requirement already satisfied: Jinja2>=2.3 in ./venv/lib/python3.7/site-packages (from sphinx<3,>=2.2->ampligraph) (3.1.2)\r\n",
      "Requirement already satisfied: sphinxcontrib-devhelp in ./venv/lib/python3.7/site-packages (from sphinx<3,>=2.2->ampligraph) (1.0.2)\r\n",
      "Requirement already satisfied: markdown>=2.6.8 in ./venv/lib/python3.7/site-packages (from tensorboard<1.16.0,>=1.15.0->tensorflow-gpu<2.0,>=1.15.2) (3.3.4)\r\n",
      "Requirement already satisfied: werkzeug>=0.11.15 in ./venv/lib/python3.7/site-packages (from tensorboard<1.16.0,>=1.15.0->tensorflow-gpu<2.0,>=1.15.2) (2.1.2)\r\n",
      "Requirement already satisfied: typing-extensions>=3.6.4 in ./venv/lib/python3.7/site-packages (from importlib-metadata<4.3->flake8>=3.7.7->ampligraph) (4.2.0)\r\n",
      "Requirement already satisfied: zipp>=0.5 in ./venv/lib/python3.7/site-packages (from importlib-metadata<4.3->flake8>=3.7.7->ampligraph) (3.8.0)\r\n",
      "Requirement already satisfied: MarkupSafe>=2.0 in ./venv/lib/python3.7/site-packages (from Jinja2>=2.3->sphinx<3,>=2.2->ampligraph) (2.1.1)\r\n",
      "Requirement already satisfied: latexcodec>=1.0.4 in ./venv/lib/python3.7/site-packages (from pybtex>=0.20->sphinxcontrib-bibtex==0.4.2->ampligraph) (2.0.1)\r\n",
      "Requirement already satisfied: charset-normalizer~=2.0.0 in ./venv/lib/python3.7/site-packages (from requests>=2.5.0->sphinx<3,>=2.2->ampligraph) (2.0.12)\r\n",
      "Requirement already satisfied: urllib3<1.27,>=1.21.1 in ./venv/lib/python3.7/site-packages (from requests>=2.5.0->sphinx<3,>=2.2->ampligraph) (1.26.9)\r\n",
      "Requirement already satisfied: idna<4,>=2.5 in ./venv/lib/python3.7/site-packages (from requests>=2.5.0->sphinx<3,>=2.2->ampligraph) (3.3)\r\n",
      "Requirement already satisfied: certifi>=2017.4.17 in ./venv/lib/python3.7/site-packages (from requests>=2.5.0->sphinx<3,>=2.2->ampligraph) (2022.6.15)\r\n",
      "\u001B[33mWARNING: Error parsing requirements for numpy: [Errno 2] No such file or directory: '/home/dell/f1-knowledge-base/F1-knowledge-base/graph-embeddings/venv/lib/python3.7/site-packages/numpy-1.21.6.dist-info/METADATA'\u001B[0m\r\n",
      "Installing collected packages: numpy\r\n",
      "  Attempting uninstall: numpy\r\n",
      "    Found existing installation: numpy 1.21.6\r\n",
      "\u001B[31mERROR: Cannot uninstall numpy 1.21.6, RECORD file not found. You might be able to recover from this via: 'pip install --force-reinstall --no-deps numpy==1.21.6'.\u001B[0m\r\n",
      "\u001B[33mWARNING: You are using pip version 21.3.1; however, version 22.1.2 is available.\r\n",
      "You should consider upgrading via the '/home/dell/f1-knowledge-base/F1-knowledge-base/graph-embeddings/venv/bin/python -m pip install --upgrade pip' command.\u001B[0m\r\n"
     ]
    }
   ],
   "source": [
    "!pip install \"tensorflow-gpu>=1.15.2,<2.0\" ampligraph"
   ]
  },
  {
   "cell_type": "code",
   "source": [
    "import tensorflow as tf\n",
    "import numpy as np\n",
    "import pandas as pd\n",
    "import ampligraph\n",
    "\n",
    "print(tf.version.VERSION)\n",
    "ampligraph.__version__"
   ],
   "metadata": {
    "colab": {
     "base_uri": "https://localhost:8080/",
     "height": 35
    },
    "id": "POQPYcW9C4ae",
    "executionInfo": {
     "status": "ok",
     "timestamp": 1655820593945,
     "user_tz": -180,
     "elapsed": 2912,
     "user": {
      "displayName": "Никита Рогаленко",
      "userId": "07335219348058713837"
     }
    },
    "outputId": "8ef146e6-a367-4ccb-8c64-7dd8fac90c09",
    "pycharm": {
     "name": "#%%\n"
    }
   },
   "execution_count": 2,
   "outputs": [
    {
     "name": "stdout",
     "output_type": "stream",
     "text": [
      "1.15.5\n"
     ]
    },
    {
     "data": {
      "text/plain": "'1.4.0'"
     },
     "execution_count": 2,
     "metadata": {},
     "output_type": "execute_result"
    }
   ]
  },
  {
   "cell_type": "markdown",
   "source": [
    "At first, we have to create pandas dataframe from triples extracted from ontology populated with individuals\n"
   ],
   "metadata": {
    "id": "KmY9rCUKEBYt",
    "pycharm": {
     "name": "#%% md\n"
    }
   }
  },
  {
   "cell_type": "code",
   "source": [
    "from rdflib import Graph, URIRef\n",
    "\n",
    "\n",
    "ONTOLOGY_IRI = \"https://github.com/RogoGit/F1-knowledge-base/f1-ontology\"\n",
    "ONTOLOGY_PREFIX = \"f1\"\n",
    "POPULATED_ONTOLOGY_PATH  = '../ontology-with-individuals.owl'\n",
    "\n",
    "\n",
    "f1_graph = Graph().parse(POPULATED_ONTOLOGY_PATH, format=\"turtle\")\n",
    "triples_list = []\n",
    "\n",
    "for subject, predicate, triple_object in f1_graph.triples((None, None, None)):\n",
    "    if predicate.startswith(URIRef(ONTOLOGY_IRI)):\n",
    "        triples_list.append([ent.replace(ONTOLOGY_IRI + \"#\", ONTOLOGY_PREFIX + \":\") for ent in [subject, predicate, triple_object]])\n",
    "\n",
    "f1_df = pd.DataFrame(triples_list, columns = ['Subject', 'Predicate', 'Object'])\n",
    "print(f1_df)\n"
   ],
   "metadata": {
    "colab": {
     "base_uri": "https://localhost:8080/"
    },
    "id": "3TBWScGIEOT3",
    "executionInfo": {
     "status": "ok",
     "timestamp": 1655820632111,
     "user_tz": -180,
     "elapsed": 32147,
     "user": {
      "displayName": "Никита Рогаленко",
      "userId": "07335219348058713837"
     }
    },
    "outputId": "dde48c24-040b-4d0a-8f83-9e2c8bffc154",
    "pycharm": {
     "name": "#%%\n"
    }
   },
   "execution_count": 3,
   "outputs": [
    {
     "name": "stdout",
     "output_type": "stream",
     "text": [
      "                                                  Subject  \\\n",
      "0       f1:qualifying_result_1994_san_marino_grand_pri...   \n",
      "1          f1:race_result_2010_british_grand_prix_rosberg   \n",
      "2                                    f1:driver_gene_force   \n",
      "3          f1:race_result_1982_italian_grand_prix_angelis   \n",
      "4            f1:race_result_2004_british_grand_prix_klien   \n",
      "...                                                   ...   \n",
      "362467      f1:race_result_2020_turkish_grand_prix_norris   \n",
      "362468         f1:race_result_1974_monaco_grand_prix_ickx   \n",
      "362469     f1:race_result_2019_french_grand_prix_hamilton   \n",
      "362470      f1:race_result_1971_canadian_grand_prix_galli   \n",
      "362471    f1:race_result_1974_canadian_grand_prix_wietzes   \n",
      "\n",
      "                            Predicate                              Object  \n",
      "0                   f1:driverPosition                                  13  \n",
      "1                             f1:grid                                   5  \n",
      "2          f1:hasDriverStandingResult  f1:driver_standing_1951_gene_force  \n",
      "3                             f1:grid                                  17  \n",
      "4                      f1:finalStatus                              +1 Lap  \n",
      "...                               ...                                 ...  \n",
      "362467  f1:grandPrixResultIsRelatedTo              f1:driver_lando_norris  \n",
      "362468                      f1:points                                 0.0  \n",
      "362469                      f1:points                                25.0  \n",
      "362470  f1:grandPrixResultIsRelatedTo               f1:driver_nanni_galli  \n",
      "362471               f1:lapsCompleted                                  33  \n",
      "\n",
      "[362472 rows x 3 columns]\n"
     ]
    }
   ]
  },
  {
   "cell_type": "markdown",
   "source": [
    "Next step is to create train and test samples for graph embedding training"
   ],
   "metadata": {
    "id": "rPstkqZRWtDk",
    "pycharm": {
     "name": "#%% md\n"
    }
   }
  },
  {
   "cell_type": "code",
   "execution_count": 4,
   "outputs": [
    {
     "name": "stdout",
     "output_type": "stream",
     "text": [
      "Train set size:  (326225, 3)\n",
      "Test set size:  (36247, 3)\n"
     ]
    }
   ],
   "source": [
    "from ampligraph.evaluation import train_test_split_no_unseen \n",
    "\n",
    "X_train, X_test = train_test_split_no_unseen(np.array(triples_list), test_size=0.10, seed=0)\n",
    "\n",
    "print('Train set size: ', X_train.shape)\n",
    "print('Test set size: ', X_test.shape)"
   ],
   "metadata": {
    "collapsed": false,
    "pycharm": {
     "name": "#%%\n"
    }
   }
  },
  {
   "cell_type": "markdown",
   "source": [
    "Now it is time to define ComplEx model and train model with train sample"
   ],
   "metadata": {
    "collapsed": false,
    "pycharm": {
     "name": "#%% md\n"
    }
   }
  },
  {
   "cell_type": "code",
   "execution_count": 6,
   "outputs": [
    {
     "name": "stderr",
     "output_type": "stream",
     "text": [
      "Average ComplEx Loss:   0.110975: 100%|██████████| 300/300 [3:23:58<00:00, 40.79s/epoch]  \n"
     ]
    }
   ],
   "source": [
    "import tensorflow.contrib\n",
    "from ampligraph.latent_features import ComplEx, save_model\n",
    "\n",
    "model = ComplEx(batches_count=100,\n",
    "                epochs=300,\n",
    "                k=100,\n",
    "                eta=20,\n",
    "                optimizer='adam',\n",
    "                optimizer_params={'lr':1e-4},\n",
    "                loss='multiclass_nll',\n",
    "                regularizer='LP',\n",
    "                regularizer_params={'p':3, 'lambda':1e-5},\n",
    "                seed=0,\n",
    "                verbose=True)\n",
    "\n",
    "model.fit(X_train)\n",
    "save_model(model, './embedding_model.pkl')"
   ],
   "metadata": {
    "collapsed": false,
    "pycharm": {
     "name": "#%%\n"
    }
   }
  },
  {
   "cell_type": "markdown",
   "source": [
    "In order to use already trained model we can run:"
   ],
   "metadata": {
    "collapsed": false,
    "pycharm": {
     "name": "#%% md\n"
    }
   }
  },
  {
   "cell_type": "code",
   "execution_count": 5,
   "outputs": [],
   "source": [
    "from ampligraph.latent_features import restore_model\n",
    "\n",
    "model = restore_model('./embedding_model.pkl')"
   ],
   "metadata": {
    "collapsed": false,
    "pycharm": {
     "name": "#%%\n"
    }
   }
  },
  {
   "cell_type": "markdown",
   "source": [
    "Next step is to ensure the model can be trained and evaluated correctly. The first of these is defining the filter that will be used to ensure that no negative statements generated by the corruption procedure are actually positives."
   ],
   "metadata": {
    "collapsed": false,
    "pycharm": {
     "name": "#%% md\n"
    }
   }
  },
  {
   "cell_type": "code",
   "execution_count": null,
   "outputs": [],
   "source": [
    "from ampligraph.evaluation import evaluate_performance\n",
    "\n",
    "filter_triples = np.concatenate((X_train, X_test))\n",
    "ranks = evaluate_performance(X_test,\n",
    "                             model=model,\n",
    "                             filter_triples=filter_triples,\n",
    "                             use_default_protocol=True,\n",
    "                             verbose=True)"
   ],
   "metadata": {
    "collapsed": false,
    "pycharm": {
     "name": "#%%\n"
    }
   }
  },
  {
   "cell_type": "markdown",
   "source": [
    "Now let's use mrr_score (mean reciprocal rank) and hits_at_n_score functions"
   ],
   "metadata": {
    "collapsed": false,
    "pycharm": {
     "name": "#%% md\n"
    }
   }
  },
  {
   "cell_type": "code",
   "execution_count": 7,
   "outputs": [
    {
     "name": "stdout",
     "output_type": "stream",
     "text": [
      "MRR: 0.83\n",
      "MR: 388.64\n",
      "Hits@10: 0.93\n",
      "Hits@3: 0.88\n",
      "Hits@1: 0.76\n"
     ]
    }
   ],
   "source": [
    "from ampligraph.evaluation import mr_score, mrr_score, hits_at_n_score\n",
    "\n",
    "mr = mr_score(ranks)\n",
    "mrr = mrr_score(ranks)\n",
    "\n",
    "print(\"MRR: %.2f\" % mrr)\n",
    "print(\"MR: %.2f\" % mr)\n",
    "\n",
    "hits_10 = hits_at_n_score(ranks, n=10)\n",
    "print(\"Hits@10: %.2f\" % hits_10)\n",
    "hits_3 = hits_at_n_score(ranks, n=3)\n",
    "print(\"Hits@3: %.2f\" % hits_3)\n",
    "hits_1 = hits_at_n_score(ranks, n=1)\n",
    "print(\"Hits@1: %.2f\" % hits_1)"
   ],
   "metadata": {
    "collapsed": false,
    "pycharm": {
     "name": "#%%\n"
    }
   }
  },
  {
   "cell_type": "code",
   "execution_count": null,
   "outputs": [],
   "source": [],
   "metadata": {
    "collapsed": false,
    "pycharm": {
     "name": "#%%\n"
    }
   }
  }
 ]
}